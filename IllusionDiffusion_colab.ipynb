{
  "cells": [
    {
      "cell_type": "markdown",
      "metadata": {
        "id": "view-in-github"
      },
      "source": [
        "[![Open In Colab](https://colab.research.google.com/assets/colab-badge.svg)](https://colab.research.google.com/github/camenduru/IllusionDiffusion-colab/blob/main/IllusionDiffusion_colab.ipynb)"
      ]
    },
    {
      "cell_type": "code",
      "execution_count": null,
      "metadata": {
        "id": "VjYy0F2gZIPR"
      },
      "outputs": [],
      "source": [
        "%cd /content\n",
        "!git clone -b dev https://github.com/camenduru/IllusionDiffusion-hf\n",
        "!git clone -b diffusers-v0.21.2 https://github.com/camenduru/FreeU_Diffusers\n",
        "%cd /content/IllusionDiffusion-hf\n",
        "!pip install -q -r requirements.txt\n",
        "\n",
        "import torch, sys\n",
        "from diffusers import StableDiffusionPipeline\n",
        "!apt -y install -qq aria2\n",
        "!aria2c --console-log-level=error -c -x 16 -s 16 -k 1M 'https://civitai.com/api/download/models/138176?type=Model&format=SafeTensor&size=pruned&fp=fp16' -d /content/models -o cyberrealistic_v33.safetensors\n",
        "\n",
        "pipeline = StableDiffusionPipeline.from_single_file('/content/models/cyberrealistic_v33.safetensors', torch_dtype=torch.float16, safety_checker=None)\n",
        "pipeline.save_pretrained('/content/models/torch/cyberrealistic', safe_serialization=False)\n",
        "\n",
        "sys.path.append('/content/FreeU_Diffusers')\n",
        "from free_lunch_utils import register_free_upblock2d, register_free_crossattn_upblock2d\n",
        "register_free_upblock2d(pipeline, b1=1.2, b2=1.4, s1=0.9, s2=0.2)\n",
        "register_free_crossattn_upblock2d(pipeline, b1=1.2, b2=1.4, s1=0.9, s2=0.2)\n",
        "\n",
        "!python app.py"
      ]
    }
  ],
  "metadata": {
    "accelerator": "GPU",
    "colab": {
      "gpuType": "T4",
      "provenance": []
    },
    "kernelspec": {
      "display_name": "Python 3",
      "name": "python3"
    },
    "language_info": {
      "name": "python"
    }
  },
  "nbformat": 4,
  "nbformat_minor": 0
}
